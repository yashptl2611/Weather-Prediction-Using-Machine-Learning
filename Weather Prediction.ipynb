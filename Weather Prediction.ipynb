{
 "cells": [
  {
   "cell_type": "code",
   "execution_count": 1,
   "metadata": {
    "id": "TmJ9KSFXitwn"
   },
   "outputs": [],
   "source": [
    "import pandas as pd\n",
    "import datetime\n",
    "import matplotlib.pyplot as plt\n",
    "import warnings\n",
    "from sklearn import pipeline,preprocessing,metrics,model_selection,ensemble\n",
    "from sklearn_pandas import DataFrameMapper"
   ]
  },
  {
   "cell_type": "code",
   "execution_count": 2,
   "metadata": {
    "id": "JBR8S1c2itwy"
   },
   "outputs": [],
   "source": [
    "weather = pd.read_csv(\"Weather_Dataset.csv\",parse_dates=[\"Month\"], index_col=\"Month\")"
   ]
  },
  {
   "cell_type": "code",
   "execution_count": 3,
   "metadata": {
    "colab": {
     "base_uri": "https://localhost:8080/",
     "height": 450
    },
    "id": "lKQ4EeVoitw4",
    "outputId": "10364da8-399d-4fd9-cc9f-fa5b74cb1c78"
   },
   "outputs": [
    {
     "data": {
      "text/html": [
       "<div>\n",
       "<style scoped>\n",
       "    .dataframe tbody tr th:only-of-type {\n",
       "        vertical-align: middle;\n",
       "    }\n",
       "\n",
       "    .dataframe tbody tr th {\n",
       "        vertical-align: top;\n",
       "    }\n",
       "\n",
       "    .dataframe thead th {\n",
       "        text-align: right;\n",
       "    }\n",
       "</style>\n",
       "<table border=\"1\" class=\"dataframe\">\n",
       "  <thead>\n",
       "    <tr style=\"text-align: right;\">\n",
       "      <th></th>\n",
       "      <th>Temperature</th>\n",
       "    </tr>\n",
       "    <tr>\n",
       "      <th>Month</th>\n",
       "      <th></th>\n",
       "    </tr>\n",
       "  </thead>\n",
       "  <tbody>\n",
       "    <tr>\n",
       "      <th>2010-01-01</th>\n",
       "      <td>21</td>\n",
       "    </tr>\n",
       "    <tr>\n",
       "      <th>2010-02-01</th>\n",
       "      <td>24</td>\n",
       "    </tr>\n",
       "    <tr>\n",
       "      <th>2010-03-01</th>\n",
       "      <td>30</td>\n",
       "    </tr>\n",
       "    <tr>\n",
       "      <th>2010-04-01</th>\n",
       "      <td>33</td>\n",
       "    </tr>\n",
       "    <tr>\n",
       "      <th>2010-05-01</th>\n",
       "      <td>36</td>\n",
       "    </tr>\n",
       "    <tr>\n",
       "      <th>...</th>\n",
       "      <td>...</td>\n",
       "    </tr>\n",
       "    <tr>\n",
       "      <th>2019-08-01</th>\n",
       "      <td>29</td>\n",
       "    </tr>\n",
       "    <tr>\n",
       "      <th>2019-09-01</th>\n",
       "      <td>29</td>\n",
       "    </tr>\n",
       "    <tr>\n",
       "      <th>2019-10-01</th>\n",
       "      <td>28</td>\n",
       "    </tr>\n",
       "    <tr>\n",
       "      <th>2019-11-01</th>\n",
       "      <td>26</td>\n",
       "    </tr>\n",
       "    <tr>\n",
       "      <th>2019-12-01</th>\n",
       "      <td>21</td>\n",
       "    </tr>\n",
       "  </tbody>\n",
       "</table>\n",
       "<p>120 rows × 1 columns</p>\n",
       "</div>"
      ],
      "text/plain": [
       "            Temperature\n",
       "Month                  \n",
       "2010-01-01           21\n",
       "2010-02-01           24\n",
       "2010-03-01           30\n",
       "2010-04-01           33\n",
       "2010-05-01           36\n",
       "...                 ...\n",
       "2019-08-01           29\n",
       "2019-09-01           29\n",
       "2019-10-01           28\n",
       "2019-11-01           26\n",
       "2019-12-01           21\n",
       "\n",
       "[120 rows x 1 columns]"
      ]
     },
     "execution_count": 3,
     "metadata": {},
     "output_type": "execute_result"
    }
   ],
   "source": [
    "weather"
   ]
  },
  {
   "cell_type": "code",
   "execution_count": 4,
   "metadata": {
    "colab": {
     "base_uri": "https://localhost:8080/",
     "height": 296
    },
    "id": "bJoIlqMVitxC",
    "outputId": "0cc47552-10f7-424f-b330-7d7e920d9078"
   },
   "outputs": [
    {
     "data": {
      "text/plain": [
       "<matplotlib.axes._subplots.AxesSubplot at 0x175015f26d0>"
      ]
     },
     "execution_count": 4,
     "metadata": {},
     "output_type": "execute_result"
    },
    {
     "data": {
      "image/png": "[encoded data removed]",
      "text/plain": [
       "<Figure size 432x288 with 1 Axes>"
      ]
     },
     "metadata": {
      "needs_background": "light"
     },
     "output_type": "display_data"
    }
   ],
   "source": [
    "weather.plot(color='green')"
   ]
  },
  {
   "cell_type": "code",
   "execution_count": 5,
   "metadata": {
    "id": "1V6V5R7zitxJ"
   },
   "outputs": [],
   "source": [
    "X = weather.values\n",
    "train = X[0:70] # data for training\n",
    "test = X[70:] # data for testing\n",
    "predictions = []"
   ]
  },
  {
   "cell_type": "code",
   "execution_count": 6,
   "metadata": {
    "colab": {
     "base_uri": "https://localhost:8080/",
     "height": 34
    },
    "id": "2t-nvf0jitxT",
    "outputId": "01b869dc-4813-41a7-e096-354d1a4e5909"
   },
   "outputs": [
    {
     "data": {
      "text/plain": [
       "70"
      ]
     },
     "execution_count": 6,
     "metadata": {},
     "output_type": "execute_result"
    }
   ],
   "source": [
    "train.size # total no. of train data"
   ]
  },
  {
   "cell_type": "markdown",
   "metadata": {
    "id": "fd2UaOsejaQ5"
   },
   "source": [
    "# **Auto-Regressive Model**"
   ]
  },
  {
   "cell_type": "code",
   "execution_count": 7,
   "metadata": {
    "id": "d2hfu_WeitxY"
   },
   "outputs": [],
   "source": [
    "from statsmodels.tsa.ar_model import AR\n",
    "from sklearn.metrics import mean_squared_error"
   ]
  },
  {
   "cell_type": "code",
   "execution_count": 9,
   "metadata": {
    "id": "rYaIlMRDitxf"
   },
   "outputs": [],
   "source": [
    "model_ar = AR(train)\n",
    "model_ar_fit = model_ar.fit()"
   ]
  },
  {
   "cell_type": "code",
   "execution_count": 10,
   "metadata": {
    "id": "TrfQErtcitxl"
   },
   "outputs": [],
   "source": [
    "predictions = model_ar_fit.predict(start=70,end=100)"
   ]
  },
  {
   "cell_type": "code",
   "execution_count": 11,
   "metadata": {
    "colab": {
     "base_uri": "https://localhost:8080/",
     "height": 867
    },
    "id": "8R-gwIouitxq",
    "outputId": "385363f4-694a-40fd-d1c6-d022b60a05cb"
   },
   "outputs": [
    {
     "data": {
      "text/plain": [
       "array([[26],\n",
       "       [21],\n",
       "       [21],\n",
       "       [25],\n",
       "       [30],\n",
       "       [33],\n",
       "       [35],\n",
       "       [34],\n",
       "       [30],\n",
       "       [28],\n",
       "       [29],\n",
       "       [28],\n",
       "       [24],\n",
       "       [22],\n",
       "       [21],\n",
       "       [24],\n",
       "       [28],\n",
       "       [32],\n",
       "       [35],\n",
       "       [33],\n",
       "       [28],\n",
       "       [29],\n",
       "       [30],\n",
       "       [29],\n",
       "       [24],\n",
       "       [21],\n",
       "       [21],\n",
       "       [24],\n",
       "       [29],\n",
       "       [33],\n",
       "       [35],\n",
       "       [34],\n",
       "       [29],\n",
       "       [29],\n",
       "       [29],\n",
       "       [30],\n",
       "       [26],\n",
       "       [21],\n",
       "       [19],\n",
       "       [22],\n",
       "       [28],\n",
       "       [33],\n",
       "       [35],\n",
       "       [33],\n",
       "       [32],\n",
       "       [29],\n",
       "       [29],\n",
       "       [28],\n",
       "       [26],\n",
       "       [21]], dtype=int64)"
      ]
     },
     "execution_count": 11,
     "metadata": {},
     "output_type": "execute_result"
    }
   ],
   "source": [
    "test"
   ]
  },
  {
   "cell_type": "code",
   "execution_count": 12,
   "metadata": {
    "colab": {
     "base_uri": "https://localhost:8080/",
     "height": 136
    },
    "id": "KhrWNHyeitxv",
    "outputId": "bdfb39f8-5c0e-4ede-accc-b749194670d9"
   },
   "outputs": [
    {
     "data": {
      "text/plain": [
       "array([25.04898106, 20.66568024, 18.8376725 , 20.94717278, 26.72094645,\n",
       "       30.94423858, 32.56670209, 32.19426158, 30.41357871, 30.25660949,\n",
       "       30.59755505, 29.04052977, 25.5889904 , 20.92845302, 18.96743558,\n",
       "       21.39228454, 26.00144303, 30.46273414, 32.29022598, 31.63971535,\n",
       "       30.79655539, 30.52723804, 30.58125208, 29.26821763, 25.49283551,\n",
       "       21.34605036, 19.47304808, 21.30745795, 25.82165134, 29.90248832,\n",
       "       31.74869574])"
      ]
     },
     "execution_count": 12,
     "metadata": {},
     "output_type": "execute_result"
    }
   ],
   "source": [
    "predictions"
   ]
  },
  {
   "cell_type": "code",
   "execution_count": 13,
   "metadata": {
    "colab": {
     "base_uri": "https://localhost:8080/",
     "height": 1000
    },
    "id": "RCXBZmxritx2",
    "outputId": "289a8179-28d6-4383-f180-1923f2a2dc2d"
   },
   "outputs": [
    {
     "name": "stdout",
     "output_type": "stream",
     "text": [
      "[[26]\n",
      " [21]\n",
      " [21]\n",
      " [25]\n",
      " [30]\n",
      " [33]\n",
      " [35]\n",
      " [34]\n",
      " [30]\n",
      " [28]\n",
      " [29]\n",
      " [28]\n",
      " [24]\n",
      " [22]\n",
      " [21]\n",
      " [24]\n",
      " [28]\n",
      " [32]\n",
      " [35]\n",
      " [33]\n",
      " [28]\n",
      " [29]\n",
      " [30]\n",
      " [29]\n",
      " [24]\n",
      " [21]\n",
      " [21]\n",
      " [24]\n",
      " [29]\n",
      " [33]\n",
      " [35]\n",
      " [34]\n",
      " [29]\n",
      " [29]\n",
      " [29]\n",
      " [30]\n",
      " [26]\n",
      " [21]\n",
      " [19]\n",
      " [22]\n",
      " [28]\n",
      " [33]\n",
      " [35]\n",
      " [33]\n",
      " [32]\n",
      " [29]\n",
      " [29]\n",
      " [28]\n",
      " [26]\n",
      " [21]]\n",
      "[25.04898106 20.66568024 18.8376725  20.94717278 26.72094645 30.94423858\n",
      " 32.56670209 32.19426158 30.41357871 30.25660949 30.59755505 29.04052977\n",
      " 25.5889904  20.92845302 18.96743558 21.39228454 26.00144303 30.46273414\n",
      " 32.29022598 31.63971535 30.79655539 30.52723804 30.58125208 29.26821763\n",
      " 25.49283551 21.34605036 19.47304808 21.30745795 25.82165134 29.90248832\n",
      " 31.74869574]\n",
      "Haze\n",
      "Cloudy\n",
      "Cloudy\n",
      "Cloudy\n",
      "Haze\n",
      "Haze\n",
      "Haze\n",
      "Haze\n",
      "Haze\n",
      "Haze\n",
      "Haze\n",
      "Haze\n",
      "Haze\n",
      "Cloudy\n",
      "Cloudy\n",
      "Cloudy\n",
      "Haze\n",
      "Haze\n",
      "Haze\n",
      "Haze\n",
      "Haze\n",
      "Haze\n",
      "Haze\n",
      "Haze\n",
      "Haze\n",
      "Cloudy\n",
      "Cloudy\n",
      "Cloudy\n",
      "Haze\n",
      "Haze\n",
      "Haze\n"
     ]
    }
   ],
   "source": [
    "print(test)\n",
    "print(predictions)\n",
    "for x in predictions:\n",
    "    if x>=35:\n",
    "        print ('Sunny')\n",
    "    elif x>=25 and x<=35:\n",
    "        print ('Haze')\n",
    "    elif x<=25:\n",
    "        print ('Cloudy')\n",
    "    else:\n",
    "        print ('Null')"
   ]
  },
  {
   "cell_type": "code",
   "execution_count": 14,
   "metadata": {
    "colab": {
     "base_uri": "https://localhost:8080/",
     "height": 282
    },
    "id": "M10vTU_Aitx7",
    "outputId": "82ee6308-a17e-46aa-a69b-4493ed3eab06"
   },
   "outputs": [
    {
     "data": {
      "text/plain": [
       "[<matplotlib.lines.Line2D at 0x1750258cd00>]"
      ]
     },
     "execution_count": 14,
     "metadata": {},
     "output_type": "execute_result"
    },
    {
     "data": {
      "image/png": "[encoded data removed]",
      "text/plain": [
       "<Figure size 432x288 with 1 Axes>"
      ]
     },
     "metadata": {
      "needs_background": "light"
     },
     "output_type": "display_data"
    }
   ],
   "source": [
    "plt.plot(test) # taken data as test\n",
    "plt.plot(predictions,color='red') # predicted data"
   ]
  }
 ],
 "metadata": {
  "colab": {
   "collapsed_sections": [],
   "name": "Weather_Prediction.ipynb",
   "provenance": []
  },
  "kernelspec": {
   "display_name": "Python 3",
   "language": "python",
   "name": "python3"
  },
  "language_info": {
   "codemirror_mode": {
    "name": "ipython",
    "version": 3
   },
   "file_extension": ".py",
   "mimetype": "text/x-python",
   "name": "python",
   "nbconvert_exporter": "python",
   "pygments_lexer": "ipython3",
   "version": "3.8.3"
  }
 },
 "nbformat": 4,
 "nbformat_minor": 1
}
